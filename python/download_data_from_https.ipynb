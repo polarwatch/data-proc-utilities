{
 "cells": [
  {
   "cell_type": "markdown",
   "id": "57d2c112",
   "metadata": {},
   "source": [
    "# IMS 1K Data Downloads and Processing\n",
    "\n",
    "- **Author:** Sunny Bak Hospital (NOAA PolarWatch)\n",
    "- **Created:** 2024-05-29\n",
    "- **Last Modified:** 2024-05-29\n",
    "- **Description:** Python Notebook for downloading and processing IMS 1K Data from the NSIDC http server.\n",
    "- **License:** CC-BY 4.0\n"
   ]
  },
  {
   "cell_type": "markdown",
   "id": "6df61042",
   "metadata": {},
   "source": [
    "## Download IMS 1k Data\n",
    "\n",
    "server: https://noaadata.apps.nsidc.org/NOAA/G02156/netcdf/1km/"
   ]
  },
  {
   "cell_type": "code",
   "execution_count": null,
   "id": "d695384a",
   "metadata": {},
   "outputs": [],
   "source": [
    "# import requests\n",
    "import os\n",
    "# from bs4 import BeautifulSoup\n",
    "# from io import BytesIO\n",
    "import os\n",
    "import xarray as xr\n",
    "from helper import download_files_from_server, load_nc_file, load_mfiles\n",
    "import gzip\n",
    "from pathlib import Path\n"
   ]
  },
  {
   "cell_type": "code",
   "execution_count": null,
   "id": "95f93de9",
   "metadata": {},
   "outputs": [],
   "source": [
    "# Set data download directory\n",
    "output_dir = \"../mydir/download_dir\"\n",
    "\n",
    "# Set ims server URL\n",
    "server_url = \"https://noaadata.apps.nsidc.org/NOAA/G02156/netcdf/1km/\"\n",
    "\n",
    "# Set the year range from which to download files (start year, end year+1) \n",
    "for year in range(2014, 2020): # (first, last) last is not included. \n",
    "  download_files_from_server(server_url, year, output_dir)"
   ]
  },
  {
   "cell_type": "markdown",
   "id": "5d41c1de",
   "metadata": {},
   "source": [
    "## Unzip and load a single file"
   ]
  },
  {
   "cell_type": "code",
   "execution_count": null,
   "id": "a58324e4",
   "metadata": {},
   "outputs": [],
   "source": [
    "# unzip and load one file\n",
    "\n",
    "fpath = f\"{output_dir}/2009/ims2009001_4km_v1.2.nc.gz\"\n",
    "ds = load_nc_file(fpath)\n",
    "ds\n",
    "\n"
   ]
  },
  {
   "cell_type": "markdown",
   "id": "a4dcea48",
   "metadata": {},
   "source": [
    "## Unzip and load multiple files"
   ]
  },
  {
   "cell_type": "code",
   "execution_count": null,
   "id": "45cef331",
   "metadata": {},
   "outputs": [],
   "source": [
    "# Set the directory where all files are stored\n",
    "small_dir = Path(output_dir) / \"small\"\n",
    "\n",
    "# create a list of all files in the directory\n",
    "flist = [str(f) for f in small_dir.iterdir() if f.is_file()]\n",
    "\n",
    "# Load all files into a single xarray dataset\n",
    "ds_all = load_mfiles(flist)\n",
    "ds_all "
   ]
  }
 ],
 "metadata": {
  "kernelspec": {
   "display_name": "seaice",
   "language": "python",
   "name": "seaice"
  },
  "language_info": {
   "codemirror_mode": {
    "name": "ipython",
    "version": 3
   },
   "file_extension": ".py",
   "mimetype": "text/x-python",
   "name": "python",
   "nbconvert_exporter": "python",
   "pygments_lexer": "ipython3",
   "version": "3.9.19"
  }
 },
 "nbformat": 4,
 "nbformat_minor": 5
}
